{
 "cells": [
  {
   "cell_type": "markdown",
   "metadata": {},
   "source": [
    "## Molecular dynamics simulation for Argon atoms\n",
    "\n",
    "Here we want to simulate the behaviour of a system of argon atoms. Therefore we assume pair interactions take place with a Lennard Jones potential. The simulation is computed by the velocity Verlet algorithm. "
   ]
  },
  {
   "cell_type": "code",
   "execution_count": 3,
   "metadata": {
    "collapsed": false
   },
   "outputs": [],
   "source": [
    "# Import necessary libaries\n",
    "import numpy as np\n",
    "import pylab\n",
    "from mpl_toolkits.mplot3d import Axes3D\n",
    "import anim_md2\n",
    "from numba import jit\n",
    "import cProfile\n",
    "import matplotlib.pyplot as plt\n",
    "import math\n",
    "%matplotlib inline\n"
   ]
  },
  {
   "cell_type": "code",
   "execution_count": 4,
   "metadata": {
    "collapsed": false
   },
   "outputs": [],
   "source": [
    "# Settings for figures\n",
    "figureparams = {'axes.labelsize': 20,\n",
    "           'axes.titlesize': 20,\n",
    "           'axes.linewidth': 1.3,\n",
    "           'font.size': 16,\n",
    "           'legend.fontsize': 15,\n",
    "           'font.family': 'serif',\n",
    "           'font.serif': 'Computer Modern Roman',\n",
    "           'xtick.labelsize': 15,\n",
    "           'xtick.major.size': 5.5,\n",
    "           'xtick.major.width': 1.3,\n",
    "           'ytick.labelsize': 15,\n",
    "           'ytick.major.size': 5.5,\n",
    "           'ytick.major.width': 1.3,\n",
    "           'text.usetex': True,\n",
    "           'figure.autolayout': True}\n",
    "plt.rcParams.update(figureparams)"
   ]
  },
  {
   "cell_type": "markdown",
   "metadata": {},
   "source": [
    "### Initialize constants in natural units"
   ]
  },
  {
   "cell_type": "code",
   "execution_count": 5,
   "metadata": {
    "collapsed": true
   },
   "outputs": [],
   "source": [
    "#Physical constants in natural units\n",
    "kb=1                # Boltzman constant m^2 kg s^-2 K^-1\n",
    "temp = 1            # Temperature in Kelvin/120 \n",
    "eps = 1             # Depth of potential well [J]\n",
    "sig = 1             # Width of the potential well \n",
    "mass = 1            # mass of argon atom \n",
    "rmin = sig*2**(2/3) # Distance for minimum V\n",
    "\n",
    "# time parameters\n",
    "dt = 4e-3           # time steps\n",
    "nt = 2500           # number of timesteps for the simulation\n",
    "\n",
    "\n",
    "# Cut off distances\n",
    "rc2 = (sig*3)**2    # cut off length squared\n",
    "rc = np.sqrt(rc2)   # Cut off length"
   ]
  },
  {
   "cell_type": "markdown",
   "metadata": {},
   "source": [
    "### Calculate system size\n",
    "For a given density $\\rho$ and number of unit cells in each direction $m$"
   ]
  },
  {
   "cell_type": "code",
   "execution_count": 6,
   "metadata": {
    "collapsed": false
   },
   "outputs": [],
   "source": [
    "def systemsize(m, density):\n",
    "    a = rmin*(density)**(-1/3)\n",
    "    box_len = a*m     # System Size\n",
    "    n = 4*m**3        # Number of atoms if you have m unit cells in each direction\n",
    "    return box_len,n,a"
   ]
  },
  {
   "cell_type": "markdown",
   "metadata": {},
   "source": [
    "# Initialization \n",
    "### Position \n",
    "\n",
    "For position we start with an FCC latice. Each unit cell consists of 4 atoms on the positions (0,0,0), (a/2,a/2,0), (a/2,0,a/2) and (0,a/2,a/2). We stack m unit cells in x,y,z directions. The velocity vector is a N x 3 vector. \n",
    "\n",
    "### Velocity\n",
    "For the velocity we have again a N x 3 vector where the three columns are the velocity components in x,y,z direction. The velocity components are drawn from the maxwell boltzman distribution.\n",
    "After having taking the velocities from the maxwell boltzman distribution we subtract the average velocity in each direction to get a total momentum of zero. We rescale the velocity to satisfy the equipartition theorem.\n",
    "$ E=\\frac{3}{2}Nk_bT=\\frac{1}{2}mv^2 $.\n"
   ]
  },
  {
   "cell_type": "code",
   "execution_count": 7,
   "metadata": {
    "collapsed": false
   },
   "outputs": [],
   "source": [
    "def initialize(n, a, T, m):\n",
    "    # initialize positions of atoms\n",
    "    x = np.zeros([3,n])\n",
    "    aa = 0\n",
    "    for i in range(m):\n",
    "        for j in range(m):\n",
    "            for k in range(m):\n",
    "                x[:,aa] = [i*a, j*a, k*a]\n",
    "                x[:,aa+1] = [i*a + a/2, j*a + a/2, k*a]\n",
    "                x[:,aa+2] = [i*a + a/2, j*a, k*a + a/2]\n",
    "                x[:,aa+3] = [i*a, j*a + a/2, k*a + a/2]\n",
    "                aa +=4\n",
    "    \n",
    "    # initialize velocity of atoms.\n",
    "   \n",
    "    # take 3N velocity components from gaussian distribution \n",
    "    v = np.random.normal(0, (T)**(1/2), (3,n))\n",
    "    \n",
    "    # Substract average velocity to have an total momentum of zero.\n",
    "    v = v - np.transpose(np.sum(v, axis=1)/n *np.ones((n,1)))\n",
    "    \n",
    "    # rescale the velocity to satisfy equipartition theorem\n",
    "    v = v*(np.sum(v*v)/(3*(n - 1)*kb*T))**(-1/2)\n",
    "    \n",
    "    return(x, v)\n"
   ]
  },
  {
   "cell_type": "markdown",
   "metadata": {},
   "source": [
    "### Force calculation\n",
    "To determine the force on each particle we use the Lennard Jones potential. The calc_force function loops over all particle pairs taking the nearest copy of all the paticles. If the distance between two particles is smaller than rc the cut off distance, the force and potential are determined.\n",
    "\n",
    "The  numba command @jit is used to speed up the calculation. "
   ]
  },
  {
   "cell_type": "code",
   "execution_count": 8,
   "metadata": {
    "collapsed": false
   },
   "outputs": [],
   "source": [
    "@jit\n",
    "def calc_force(x, n, box_len):\n",
    "    Fx = np.zeros(n)\n",
    "    Fy = np.zeros(n)\n",
    "    Fz = np.zeros(n)\n",
    "    VLJ = 0\n",
    "    Virial=0\n",
    "    for i in range(n):\n",
    "        for j in range(i):\n",
    "            # Calculate the distance between particle i and j. take the nearest copy from the minimal image convention\n",
    "            dx = x[0, j] - x[0, i]\n",
    "            dx -= np.rint(dx/box_len)*box_len\n",
    "            dy = x[1, j] - x[1, i]\n",
    "            dy -= np.rint(dy/box_len)*box_len\n",
    "            dz = x[2, j] - x[2, i]\n",
    "            dz -= np.rint(dz/box_len)*box_len\n",
    "            dr2 = dx*dx + dy*dy + dz*dz\n",
    "            \n",
    "            if  dr2 < rc2:\n",
    "                dr_2 = 1/dr2\n",
    "                dr_6 = dr_2*dr_2*dr_2\n",
    "                FLJ_dr_ji = 4*dr_6*dr_2*(12*dr_6 - 6) #Force between particle j and i\n",
    "                VLJ += 4*dr_6*(dr_6 - 1)\n",
    "                \n",
    "                Fx[i] -= FLJ_dr_ji*dx\n",
    "                Fx[j] += FLJ_dr_ji*dx\n",
    "                Fy[i] -= FLJ_dr_ji*dy\n",
    "                Fy[j] += FLJ_dr_ji*dy\n",
    "                Fz[i] -= FLJ_dr_ji*dz\n",
    "                Fz[j] += FLJ_dr_ji*dz\n",
    "                \n",
    "                # Virial expansion calculation for cut off regime\n",
    "                Virial+= dr2*FLJ_dr_ji\n",
    "                \n",
    "            \n",
    "    F=np.array([Fx,Fy,Fz])\n",
    "    return F,VLJ, Virial"
   ]
  },
  {
   "cell_type": "markdown",
   "metadata": {},
   "source": [
    "## Simulation function\n",
    "\n",
    "Here we will loop over timesteps and calculate the new positions (r_temp), the new velocity(v_temp) and the force at time t using the Verlet algorithm \n",
    "$ \\boldsymbol{r}(t+dt)=\\boldsymbol{r}(t)+dt*\\boldsymbol{v}(t)+1/2*dt^2*\\boldsymbol{F}(t)$\n",
    "\n",
    "$\\boldsymbol{v}(t+dt)=\\boldsymbol{v}(t)+dt*\\frac{\\boldsymbol{F}(t+dt)+\\boldsymbol{F}(t)}{2}$\n",
    "\n",
    "We can implement a thermostate into the system. This means that we want to keep the temperature constant and therefore the kinetic energy constant ($E_{kin}=\\frac{3}{2}Nk_bT$)\n",
    "\n",
    "The simulation functon returns the final positions and velocities, the kinetic and potential energies and the virial pressure component for $r<r_c$"
   ]
  },
  {
   "cell_type": "code",
   "execution_count": 9,
   "metadata": {
    "collapsed": false
   },
   "outputs": [],
   "source": [
    "def simulate(n, box_len, temp, x, v, nt, dt, momcheck=False, Thermostate=False):\n",
    "\n",
    "    VLJ = np.zeros(nt)\n",
    "    Ekin = np.zeros(nt)\n",
    "    \n",
    "    r_temp = x\n",
    "    v_temp = v\n",
    "    \n",
    "    Virial1 = np.zeros(nt)\n",
    "    Fo = calc_force(x, n, box_len)[0]\n",
    " \n",
    "    for it in range(nt):\n",
    "        \n",
    "        #New position of the particles following from verlet\n",
    "        r_temp = r_temp + v_temp*dt + Fo*0.5*dt*dt\n",
    "        r_temp = r_temp%box_len #keep particle in the box\n",
    "        \n",
    "        # Calculate new Force\n",
    "        Fn,VLJ[it],Virial1[it] = calc_force(r_temp,n,box_len)\n",
    "        \n",
    "        # Calculate new velocity using F_temp and F_temp_2\n",
    "        v_temp = v_temp + 0.5*(Fn + Fo)*dt\n",
    "        Fo = Fn\n",
    "        \n",
    "        # Determine the kinetic Energy\n",
    "        Ekin[it] = 0.5*np.sum(v_temp*v_temp)\n",
    "        \n",
    "        # Now we make a thermostate in to the system. Therefore we are going to rescale the velocity\n",
    "        if (Thermostate):\n",
    "            v_temp = v_temp*((3*n*kb*temp/mass)/np.sum(v_temp*v_temp))**(1/2)  \n",
    "           \n",
    "    # check whether the momentum is conserved\n",
    "    if momcheck:\n",
    "        print('Momentum in each direction at the start of simulation:', np.sum(v,axis=1))\n",
    "        print('Momentum in each direction at the end of simulation:',np.sum(v_temp,axis=1))\n",
    "        print('Momentum_initial/Momentum_end=',np.sum(v,axis=1)/np.sum(v_temp,axis=1))\n",
    "        \n",
    "    return r_temp, v_temp, Ekin, VLJ, Virial1\n",
    "    "
   ]
  },
  {
   "cell_type": "markdown",
   "metadata": {},
   "source": [
    "### Correlation Function\n",
    "\n",
    "To determine the correlation function we first determine the distances between the particle pairs after the last time step. Here the system has already equilibrized. The correlation function is found in terms of np(r):\n",
    "\n",
    "$$g(r)=\\frac{2V}{N(N-1)}\\Big[\\frac{<np(r)>}{4\\pi r^2 \\Delta r}\\Big] $$\n",
    "\n",
    "Here np(r) is the number of particle pairs that have a distance in the range of r$\\pm\\Delta r/2 $"
   ]
  },
  {
   "cell_type": "code",
   "execution_count": 10,
   "metadata": {
    "collapsed": false
   },
   "outputs": [],
   "source": [
    "def Correlation_function(xe):\n",
    "    distances = np.ones(n//2*n + (n//2 + 1)*n%2)\n",
    "    ii = 0\n",
    "    for i in range(n):\n",
    "            for j in range(i):\n",
    "                dx = xe[0,j] - xe[0,i]\n",
    "                dx -= np.rint(dx/box_len)*box_len\n",
    "                dy = xe[1,j] - xe[1,i]\n",
    "                dy -= np.rint(dy/box_len)*box_len\n",
    "                dz = xe[2,j] - xe[2,i]\n",
    "                dz -= np.rint(dz/box_len)*box_len\n",
    "                dist = (dx*dx + dy*dy + dz*dz)**(1/2)\n",
    "                distances[ii] = dist\n",
    "                ii = ii+1\n",
    "               \n",
    "    #Histogram of distances\n",
    "    histgr = np.histogram(distances,bins=50,range=[0, box_len*.5])\n",
    "    histgr_y = histgr[0] # Values of the histogram \n",
    "    histgr_x = histgr[1] # bin edges of the histogram\n",
    "    \n",
    "    # Center of bins:\n",
    "    dx = (histgr_x[1]-histgr_x[0])/2\n",
    "    histgr_xc = np.linspace(dx,histgr_x[-1]-dx,len(histgr_y))\n",
    "\n",
    "    # Histogram for correlation function:g(r)~<n(r)>/r^2\n",
    "    histg_y = 2*(box_len)**3*(n*(n-1))**(-1)*histgr_y/(4*math.pi*(histgr_xc)**2*2*dx)\n",
    "    return histgr_xc, histg_y"
   ]
  },
  {
   "cell_type": "markdown",
   "metadata": {},
   "source": [
    "### Mean and standard Deviation\n",
    "In order to determine the standard deviation of physical quantities of our simulation we can use the method 'Data-Blocking'.\n",
    "In Data-Blocking the values of the physical quantity of interest are listed in a file. This file is then chopped in blocks that are larger than the correlation time but sufficiently small to have enough blocks.\n",
    "For each block the average is calculated: \n",
    "For blocks of size m, the jth block average is\n",
    "    \n",
    "$\\displaystyle \\overline{a_j}=\\frac{1}{m} \\sum_{k=jm+1}^{m(j+1)} a_k $\n",
    "\n",
    "We can calculate the error as the standard deviation of the uncorrelated blocks:\n",
    "\n",
    "$\\sigma^2=\\overline{A^2}-\\bar{A}^2$"
   ]
  },
  {
   "cell_type": "code",
   "execution_count": 11,
   "metadata": {
    "collapsed": true
   },
   "outputs": [],
   "source": [
    "def Error(datavector, nblocks):\n",
    "    \n",
    "    # Divide the datavector in nblocks and calculate the average value for each block\n",
    "    datavector1 = datavector[0:len(datavector) - len(datavector)%nblocks]\n",
    "    data_block = np.reshape(datavector1,(nblocks,-1))\n",
    "    # Used to data block specific heat\n",
    "    blockmean = np.mean(data_block,axis=1) \n",
    "    blockstd = np.std(data_block,axis=1)\n",
    "    # Calculate <A> en <A^2>\n",
    "    Mean = np.mean(blockmean)    \n",
    "    # Standard deviation\n",
    "    std = np.std(blockmean)\n",
    "    return Mean, std, blockmean, blockstd"
   ]
  },
  {
   "cell_type": "markdown",
   "metadata": {},
   "source": [
    "## Running simulation\n",
    "We run the simulation 2 times for nt steps. The first time we run the simulation so that the system can reach equilibrium. The end positions and velocities of the first run are used as initial positions and velocities for the second run. During the second run physical quantaties can be det"
   ]
  },
  {
   "cell_type": "code",
   "execution_count": null,
   "metadata": {
    "collapsed": false
   },
   "outputs": [],
   "source": [
    "# Initialize position and velocity\n",
    "density = 0.8\n",
    "m = 6\n",
    "nt=2500\n",
    "dt = 4e-3\n",
    "box_len,n,a = systemsize(m, density)\n",
    "temp = 1\n",
    "nocutoff = False\n",
    "x, v = initialize(n, a, temp, m)\n",
    "# First run the simulation to equilibrate in nt steps keeping the temperature fixed\n",
    "xe, ve = simulate(n, box_len, temp, x, v, nt, dt, Thermostate = True)[0:2]\n",
    "# Run the simulation for nt steps to compute the final positions, velocity, kinetic and potential energy\n",
    "xf, vf, Ekin, VLJ, Virial_cutoff = simulate(n, box_len, temp, xe, ve, nt, dt, Thermostate = False)"
   ]
  },
  {
   "cell_type": "markdown",
   "metadata": {},
   "source": [
    "## Calculating and plotting\n",
    "Of the energy, temperature and correlation function"
   ]
  },
  {
   "cell_type": "code",
   "execution_count": null,
   "metadata": {
    "collapsed": false
   },
   "outputs": [],
   "source": [
    "# Energy plot\n",
    "plt.figure(1)\n",
    "plt.title('Energy')\n",
    "plt.plot(range(nt),Ekin)\n",
    "plt.plot(range(nt),VLJ)\n",
    "plt.plot(range(nt),Ekin + VLJ)\n",
    "plt.legend(['Kinetic Energy','Potential Energy','Total Energy'], loc = 0)\n",
    "\n",
    "# Potential Energy\n",
    "V_2 = 2*np.pi*density*(n-1)*(1/3*rc**(-3) - 1/9*rc**(-9))*np.ones(nt) # Cutoff correction for potential energy\n",
    "U = VLJ + V_2\n",
    "U_mean, U_error = Error(U, 5)[0:2]\n",
    "print('Final potential energy per particle is U=%.3f  with error %.3f' %(U_mean/n, U_error/n))\n",
    "\n",
    "# Temperature\n",
    "T = Ekin*2/(3*n)\n",
    "T_mean, T_error = Error(T, 5)[0:2]\n",
    "print('Final temperature is T=%.3f  with error %.3f' %(T_mean, T_error))\n",
    "\n",
    "#Correlation function\n",
    "\n",
    "gr_x_hist = np.zeros(50)\n",
    "gr_y_hist = np.zeros(50)\n",
    "\n",
    "histgr_xc,histg_y = Correlation_function(xe)\n",
    "\n",
    "# Plot correlation function\n",
    "plt.figure(2)\n",
    "plt.plot(histgr_xc,histg_y)\n",
    "plt.title('Correlation Function for T=%d  after %d steps' %(temp,nt))\n",
    "plt.xlabel('r(\\sigma)')\n",
    "plt.ylabel('g')\n",
    "plt.savefig('.\\Figures\\Correlation-function_solid.pdf')"
   ]
  },
  {
   "cell_type": "markdown",
   "metadata": {},
   "source": [
    "## Pressure and Virial\n",
    "\n",
    "To calculate the pressure of a molecular dynamics simulation the virial pressure is often obtained. \n",
    "\n",
    "$P=\\frac{k_b T N}{V}\\Big[1-\\frac{1}{3Nk_b T} \\Big<\\sum_i \\frac{\\partial U}{\\partial r_i}\\bullet r_i \\Big>\\Big]$\n",
    "\n",
    "The expectation value can easily be calculated from the force from the particle pair within hte cut-off range $r<r_c$\n",
    "\n",
    "The contribution of particles with $r>r_c$ can analytcaly be calculated and the pressure can then be computed as follow: (equation 8.19 computational physics j.m. Thijssen):\n",
    "\n",
    "$\\frac{P}{nk_b T} = 1-\\frac{1}{3Nk_b T} \\Big< \\sum_i \\sum_{j>i} r_{ij} \\frac{\\partial U(R)}{\\partial r_{ij}} \\Big>_{cut-off} -\\frac{2\\pi N}{3k_b TV} \\int_{r_cut off}^{\\infty} r^3 \\frac{\\partial U(r)}{\\partial r} g(r) dr$\n",
    "\n",
    "Here g(r) the correlation function can be replaced by 1 since for large r.\n",
    "\n",
    "\n",
    "So the Virial Pressure:\n",
    "\n",
    "$\\frac{P}{nk_b T} = 1-\\frac{1}{3Nk_b T} \\Big< \\sum_i \\sum_{j>i} r_{ij} F_{ij} \\Big>_{cut-off} -\\frac{\\pi N \\epsilon}{6k_b TV}\\Big[ \\frac{32 \\sigma^6}{r_{cut-off}^3}-\\frac{64\\sigma^{12}}{3r_{cut-off}^9}\\Big]$ \n"
   ]
  },
  {
   "cell_type": "code",
   "execution_count": null,
   "metadata": {
    "collapsed": false
   },
   "outputs": [],
   "source": [
    "# Calculate analytical tail of virial pressure\n",
    "Virial_2 = np.pi*n*(6*temp*box_len**3)**(-1)*(32*rc**(-3)-64/3*rc**(-9))*np.ones(nt)\n",
    "\n",
    "# Add all components of the pressure and determine the mean and error\n",
    "Pvirial= n*kb*temp*box_len**(-3)*(1 + (3*n*kb*temp)**(-1)*Virial_cutoff - Virial_2)\n",
    "P_mean, P_error = Error(Pvirial,5)[0:2]\n",
    "P_mean_kbT = 1/temp*P_mean\n",
    "P_error_kbT = 1/temp*P_error\n",
    "\n",
    "print('Final Pressure is P/(density*beta)=%.3f  with error %.3f' %(P_mean_kbT/density, P_error_kbT/density))"
   ]
  },
  {
   "cell_type": "markdown",
   "metadata": {},
   "source": [
    "## Heat Capacity\n",
    "\n",
    "From lebowits (equation 7.37 from computational physics)\n",
    "\n",
    "$\\frac{<\\delta K^2>}{<K>^2} =\\frac{2}{3N} \\big( 1-\\frac{3N}{2C_v}\\big)$\n",
    "\n",
    "$ C_v=\\Big[\\frac{2}{3N}-\\frac{<\\delta K^2>}{<K>^2}\\Big]^{-1}$\n",
    "\n",
    "Here $<\\delta K^2>$ is the standard deviation of the kinetic energy.\n"
   ]
  },
  {
   "cell_type": "code",
   "execution_count": null,
   "metadata": {
    "collapsed": false
   },
   "outputs": [],
   "source": [
    "# Calculate Expectation  value and variation\n",
    "Exp_K, Std_K = Error(Ekin,5)[2:4]\n",
    "Exp_K2 = Exp_K*Exp_K\n",
    "Var_K = Std_K*Std_K\n",
    "# Calculate Heat Capacity\n",
    "Cv = (2/(3*n) - Var_K/(Exp_K**2))**(-1)\n",
    "Cv_err = np.std(Cv)\n",
    "Cv = np.mean(Cv)\n",
    "print('Specific heat is Cv=%.3f  with error %.3f' %(Cv/n, Cv_err/n))"
   ]
  },
  {
   "cell_type": "markdown",
   "metadata": {},
   "source": [
    "## Correlation time\n",
    "\n",
    "To determine the correlation time we will look at teh standard deviation for the kinetic energy. For a simulation of nt steps the standard deviation is determined for different block length using Data-blocking. The correlation time is approximately the value where the standard deviation approaches a constant value for increasing blocklengths. "
   ]
  },
  {
   "cell_type": "code",
   "execution_count": null,
   "metadata": {
    "collapsed": false
   },
   "outputs": [],
   "source": [
    "# Plot to determine optimal block size for data blocking \n",
    "\n",
    "std=np.zeros(nt-1)\n",
    "for i in range(nt-1):\n",
    "    datavector_eq = Ekin\n",
    "    nblocks = i + 1\n",
    "    # Divide the datavector in nblocks and calculate the average value for each block\n",
    "    datavector_eq1 = datavector_eq[0:len(datavector_eq)-len(datavector_eq)%nblocks]\n",
    "    data_block = np.reshape(datavector_eq1,(nblocks,-1))\n",
    "    block = np.mean(data_block,axis=1)\n",
    "    blockvar = np.std(data_block,axis=1)\n",
    "    Mean = np.mean(block)\n",
    "    # Standard deviation\n",
    "    std[i] = np.std(block)\n",
    "x=np.linspace(1,500,num=nt-1)\n",
    "x2=np.rint(nt/x)\n",
    "plt.figure()\n",
    "#plt.title('Energy')\n",
    "plt.plot(x2,std/50)\n",
    "plt.xlabel(r'block length')\n",
    "plt.ylabel(r'error')"
   ]
  }
 ],
 "metadata": {
  "kernelspec": {
   "display_name": "Python 3",
   "language": "python",
   "name": "python3"
  },
  "language_info": {
   "codemirror_mode": {
    "name": "ipython",
    "version": 3
   },
   "file_extension": ".py",
   "mimetype": "text/x-python",
   "name": "python",
   "nbconvert_exporter": "python",
   "pygments_lexer": "ipython3",
   "version": "3.5.1"
  }
 },
 "nbformat": 4,
 "nbformat_minor": 0
}
